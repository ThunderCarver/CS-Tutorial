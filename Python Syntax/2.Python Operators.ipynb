{
  "metadata": {
    "language_info": {
      "codemirror_mode": {
        "name": "python",
        "version": 3
      },
      "file_extension": ".py",
      "mimetype": "text/x-python",
      "name": "python",
      "nbconvert_exporter": "python",
      "pygments_lexer": "ipython3",
      "version": "3.8"
    },
    "kernelspec": {
      "name": "python",
      "display_name": "Python (Pyodide)",
      "language": "python"
    }
  },
  "nbformat_minor": 4,
  "nbformat": 4,
  "cells": [
    {
      "cell_type": "markdown",
      "source": "# 2.Python Operators",
      "metadata": {}
    },
    {
      "cell_type": "markdown",
      "source": "\n# [Python Operators](https://www.codesdope.com/course/python-operators/)\n\nThis chapter is about performing operations like addition, subtraction, etc similar to what we do in Maths. In Python, there are symbols which are used to perform certain operations on variables. These symbols are known as **operators**. For example, **(+)** is an operator which is used for adding the values of two variables. Let’s see different types of operators in Python.\n\n- [x]  Arithmetic Operators\n- [x]  Relational Operators\n- [x]  Logical Operators\n- [x]  Assignment Operators\n- [x]  Identity Operators\n- [x]  Membership Operators\n\n## Arithmetic Operators – `+ - * / % // **`\n\nArithmetic Operators are the type of operators which take numerical values as their operands and return a single numerical value.\n\nLet’s take two variables `a` and `b` having values ==3 and 2 respectively==.\n\n[Untitled](https://www.notion.so/e9fc96c31a484aa087f42cde58c4522e)\n",
      "metadata": {}
    },
    {
      "cell_type": "code",
      "source": "a,b =3, 2\nprint(\"sum =\", a + b)                              \nprint(\"difference =\", a - b)                       \nprint(\"product =\", a * b)                          \nprint(\"quotient =\", a / b)                         \nprint(\"quotient (integer) =\", a // b)           \nprint(\"remainder =\", a % b)                     \nprint(\"power =\", a ** b)                        ",
      "metadata": {
        "trusted": true
      },
      "execution_count": 4,
      "outputs": [
        {
          "name": "stdout",
          "text": "sum = 5\ndifference = 1\nproduct = 6\nquotient = 1.5\nquotient (integer) = 1\nremainder = 1\npower = 9\n",
          "output_type": "stream"
        }
      ]
    },
    {
      "cell_type": "markdown",
      "source": "- Difference Between / and // Operators in Python\n    \n    ---\n    \n    > </> // operator only truncates(截去) the fractional part of the quotient and not rounds off the quotient to the nearest integer, in other word, returning only the integer part. While / returns the quotient as it is while\n    > \n    \n    > Another difference between the two operators is that / always return a float (even if the operand is perfectly divisible) and // always return an integer.\n    > \n    ",
      "metadata": {}
    },
    {
      "cell_type": "code",
      "source": " a, b = 4, 2\nprint(\"quotient =\", (a / b), \"of type\", type(a / b))\n# quotient = 2.0 of type <class 'float'>print(\"quotient =\", (a // b), \"of type\", type(a // b))\n# quotient = 2 of type <class 'int'>",
      "metadata": {
        "trusted": true
      },
      "execution_count": 5,
      "outputs": [
        {
          "name": "stdout",
          "text": "quotient = 2.0 of type <class 'float'>\n",
          "output_type": "stream"
        }
      ]
    },
    {
      "cell_type": "code",
      "source": "",
      "metadata": {},
      "execution_count": null,
      "outputs": []
    }
  ]
}