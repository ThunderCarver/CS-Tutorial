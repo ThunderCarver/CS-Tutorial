{
 "cells": [
  {
   "cell_type": "markdown",
   "id": "da686f8d",
   "metadata": {},
   "source": [
    "[Sets in Python](https://realpython.com/python-sets/?utm_source=notification_summary&utm_medium=email&utm_campaign=2025-05-06)\n",
    "================="
   ]
  },
  {
   "cell_type": "markdown",
   "id": "155ab4c9",
   "metadata": {},
   "source": [
    ":Table of contents\n",
    "- [Getting Started With Python's Set Data Type](#Getting-Started-With-Python's-Set-Data-Type)\n",
    "- [Building Sets in Python](#Building-Sets-in-Python)\n",
    "  - [Creating Sets Through Literals](#Creating-Sets-Through-Literals)\n",
    "  - [Using the set() Constructor](#Using-the-set-Constructor)\n",
    "  - [Using Set Comprehensions](#Using-Set-Comprehensions)\n",
    "- [Performing Common Set Operations](#Performing-Common-Set-Operations)\n",
    "  - [Union, Intersection, Difference and Symmetric Difference](#Union,Intersection,-Difference-and-Symmetric-Difference)\n",
    "- [Using Augmented Set Operations](#Using-Augmented-Set-Operations)\n",
    "- [Comparing Sets](#Comparing-Sets)\n",
    "  - [Subsets,Propersets,Supersets,Proper Supersets, Disjointsets](#Subsets,Propersets,Supersets,Proper-Supersets,-Disjointsets)\n",
    "- [Using Other Set Method](#Using-Other-Set-Method)\n",
    "- [Traversing Sets](#Traversing-Sets)\n",
    "- [Exploring Other Set Capabilities](#Exploring-Other-Set-Capabilities)\n",
    "  - [Finding the Number of Elements With len()](#Finding-the-Number-of-Elements-With-len())\n",
    "  - [Running Membership Tests on Sets](#Running-Membership-Tests-on-Sets)\n",
    "- [Conclusion](#Conclusion)\n",
    "  "
   ]
  },
  {
   "cell_type": "markdown",
   "id": "033bfa72",
   "metadata": {},
   "source": [
    "Python provides a built-in set data type. It differs from other built-in data types in that it’s an unordered collection of unique elements. It also supports operations that differ from those of other data types. You might recall learning about sets and set theory in math class. Maybe you even remember Venn diagrams:\n",
    "\n",
    "![Venn Diagram](https://files.realpython.com/media/venn-diagram.d628e9c47300.png)\n",
    "\n",
    "In mathematics, the definition of a set can be abstract and difficult to grasp. In practice, you can think of a set as a well-defined collection of unique objects, typically called **elements** or **members**. Grouping objects in a set can be pretty helpful in programming. That’s why Python has sets built into the language.\n",
    "\n",
    "**By the end of this tutorial, you’ll understand that:**\n",
    "\n",
    "- A **set** is an unordered collection of unique, hashable elements.\n",
    "- The **set() constructor** works by converting any iterable into a set, removing duplicate elements in the process.\n",
    "- You can **initialize a set** using literals, the set() constructor, or comprehensions.\n",
    "- Sets are **unordered** because they don’t maintain a specific order of elements.\n",
    "- Sets are useful when you need to run **set operations, remove duplicates**, run e**fficient membership tests**, and more.\n",
    "\n",
    "In this tutorial, you’ll dive deep into the features of Python sets and explore topics like set creation and initialization, common set operations, set manipulation, and more.\n",
    "\n",
    "# Getting Started With Python’s set Data Type\n",
    "Python’s built-in set data type is a mutable and unordered collection of unique and hashable elements. In this definition, the qualifiers mean the following:\n",
    "\n",
    "- **Mutable**: You can add or remove elements from an existing set.\n",
    "- **Unordered**: A set doesn’t maintain any particular order of its elements.\n",
    "- **Unique elements**: Duplicate elements aren’t allowed.\n",
    "- **Hashable elements**: Each element must have a hash value that stays the same for its entire lifetime.\n",
    "\n",
    "As with other mutable data types, you can modify sets by increasing or decreasing their size or number of elements. To this end, sets provide a series of handy methods that allow you to add and remove elements to and from an existing set.\n",
    "\n",
    "The elements of a set must be unique. This feature makes sets especially useful in scenarios where you need to remove duplicate elements from an existing iterable, such as a list or tuple:"
   ]
  },
  {
   "cell_type": "code",
   "execution_count": null,
   "id": "722533e4",
   "metadata": {},
   "outputs": [
    {
     "ename": "",
     "evalue": "",
     "output_type": "error",
     "traceback": [
      "\u001b[1;31mRunning cells with 'Python 3.9.6' requires the ipykernel package.\n",
      "\u001b[1;31m<a href='command:jupyter.createPythonEnvAndSelectController'>Create a Python Environment</a> with the required packages."
     ]
    }
   ],
   "source": [
    ">>> numbers = [1, 2, 2, 2, 3, 4, 5, 5]\n",
    ">>> set(numbers)"
   ]
  },
  {
   "cell_type": "markdown",
   "id": "a48e84b7",
   "metadata": {},
   "source": [
    "In practice, removing duplicate items from an iterable might be one of the most useful and commonly used features of sets.\n",
    "\n",
    "Python implements sets as [hash tables](https://realpython.com/python-hash-table/). A great feature of hash tables is that they make lookup operations almost instantaneous. Because of this, sets are exceptionally efficient in membership operations with the *in and not in operators*.\n",
    "\n",
    "Finally, Python sets support common set operations, such as union, intersection, difference, symmetric difference, and others. This feature makes them useful when you need to do some of the following tasks:\n",
    "\n",
    "- **Find common elements** in two or more sets\n",
    "- **Find differences** between two or more sets\n",
    "- **Combine multiple sets** together while avoiding duplicates\n",
    "\n",
    "As you can see, set is a powerful data type with characteristics that make it useful in many contexts and situations. Throughout the rest of this tutorial, you’ll learn more about the features that make sets a worthwhile addition to your programming toolkit."
   ]
  },
  {
   "cell_type": "markdown",
   "id": "ed2cbfad",
   "metadata": {},
   "source": [
    "# Building Sets in Python"
   ]
  },
  {
   "cell_type": "markdown",
   "id": "95a07813",
   "metadata": {},
   "source": [
    "# Performing Common Set Operations"
   ]
  },
  {
   "cell_type": "markdown",
   "id": "0b9d322e",
   "metadata": {},
   "source": [
    "# Using Augmented Set Operations"
   ]
  },
  {
   "cell_type": "markdown",
   "id": "4a499d47",
   "metadata": {},
   "source": [
    "# Comparing Sets"
   ]
  },
  {
   "cell_type": "markdown",
   "id": "c8f10e5b",
   "metadata": {},
   "source": [
    "# Using Other Set Methods"
   ]
  },
  {
   "cell_type": "markdown",
   "id": "91390694",
   "metadata": {},
   "source": [
    "# Traversing Sets"
   ]
  },
  {
   "cell_type": "markdown",
   "id": "afe0c656",
   "metadata": {},
   "source": [
    "# Exploring Other Set Capabilities"
   ]
  },
  {
   "cell_type": "markdown",
   "id": "efa39c3d",
   "metadata": {},
   "source": [
    "# Conclusion\n",
    "\n",
    "You’ve learned a lot about Python’s **set** data type, which is an unordered collection of unique and hashable elements. You’ve explored different ways to create sets, including using literals, the set() constructor, and set comprehensions.\n",
    "\n",
    "Additionally, you’ve learned about common set operations such as **union, intersection, difference, and symmetric difference**, as well as several set manipulation techniques.\n",
    "\n",
    "Understanding sets can make a difference in your Python journey. Sets provide efficient ways to handle collections of unique items, perform membership tests, and execute set operations. They come in handy when you need to eliminate duplicates or perform fast lookups.\n",
    "\n",
    "In this tutorial, you’ve learned how to:\n",
    "\n",
    "* Create sets using **literals**, the **set() constructor**, and **comprehensions**\n",
    "* Perform common **set operations** such as **union, intersection, difference**, and **symmetric difference**\n",
    "* Use **augmented set operations** to modify sets **in place**\n",
    "* Compare sets using **subset, superset**, and **disjoint** checks\n",
    "* Manipulate sets by **adding, removing**, and **traversing** their elements\n",
    "\n",
    "With these skills, you can now effectively use Python sets to manage collections of unique items, optimize your code for performance, and solve problems involving set theory and operations. This knowledge will enable you to write more efficient and clean Python code."
   ]
  }
 ],
 "metadata": {
  "kernelspec": {
   "display_name": "Python 3",
   "language": "python",
   "name": "python3"
  },
  "language_info": {
   "name": "python",
   "version": "3.9.6"
  }
 },
 "nbformat": 4,
 "nbformat_minor": 5
}
