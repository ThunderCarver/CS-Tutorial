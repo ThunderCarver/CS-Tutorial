{
 "cells": [
  {
   "cell_type": "code",
   "execution_count": null,
   "metadata": {},
   "outputs": [],
   "source": [
    "import argparse\n",
    "\n",
    "arg = argparse.ArgumentParser()\n",
    "arg.add_argument(dest='arguments1',type = int)\n",
    "args = arg.parse_args()\n",
    "print(args.arguments1)"
   ]
  }
 ],
 "metadata": {
  "kernelspec": {
   "display_name": "JupyterVenv",
   "language": "python",
   "name": "python3"
  },
  "language_info": {
   "codemirror_mode": {
    "name": "ipython",
    "version": 3
   },
   "file_extension": ".py",
   "mimetype": "text/x-python",
   "name": "python",
   "nbconvert_exporter": "python",
   "pygments_lexer": "ipython3",
   "version": "3.7.9"
  },
  "orig_nbformat": 4
 },
 "nbformat": 4,
 "nbformat_minor": 2
}
