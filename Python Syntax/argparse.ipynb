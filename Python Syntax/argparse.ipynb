{
 "cells": [
  {
   "cell_type": "markdown",
   "metadata": {},
   "source": [
    "The argparse module is part of the Python standard library, and lets your code accept command line arguments. This makes your code easy to configure at run-time. There are multiple ways to do this in Python, but argparse is the most powerful with minimal additional code required. This article is a collection of example code snippets — I wrote it because the official documentation is quite heavy-going, and couldn’t find a suitable quick reference.\n",
    "\n",
    "Basic usage\n",
    "There are four basic steps to using argparse in your code:\n",
    "\n",
    "* import the argparse module;\n",
    "* create the parser;\n",
    "* add arguments;\n",
    "* parse the arguments."
   ]
  },
  {
   "cell_type": "code",
   "execution_count": null,
   "metadata": {},
   "outputs": [],
   "source": [
    "import argparse\n",
    "\n",
    "# Create the parser and add arguments\n",
    "parser = argparse.ArgumentParser()\n",
    "parser.add_argument(dest='argument1', help=\"This is the first argument\")\n",
    "\n",
    "# Parse and print the results\n",
    "args = parser.parse_args()\n",
    "print(args.argument1)"
   ]
  },
  {
   "cell_type": "markdown",
   "metadata": {},
   "source": [
    "This adds a single positional, mandatory (required) argument. If we run our script but forget to add the argument, we will get an error. If we supply an argument, it gets printed to the console:\n",
    "\n",
    "```zsh\n",
    "$ python argparse_basic.py\n",
    "usage: argparse_basic.py [-h] argument1\n",
    "argparse_basic.py: error: the following arguments are required: argument1\n",
    "$ python argparse_basic.py \"Hello, world!\"\n",
    "Hello, world!\n",
    "$ python argparse_basic.py 3.14159\n",
    "3.14159\n",
    "```\n",
    "\n",
    "We can also run the script and print the help message, which will list the arguments and any constraints:\n",
    "\n",
    "```zsh\n",
    "$ python basic.py --help\n",
    "usage: basic.py [-h] argument1\n",
    "positional arguments:\n",
    "  argument1   This is the first argument\n",
    "optional arguments:\n",
    "  -h, --help  show this help message and exit\n",
    "```\n",
    "The following sections expand on the code snippet above — they all use a similar structure, although we don’t reproduce all of the code unless it adds value.\n"
   ]
  },
  {
   "cell_type": "markdown",
   "metadata": {},
   "source": [
    "## Positional arguments \n",
    "\n",
    "These are read from the command line in the order that they appear after the script name, and are required unless otherwise specified:"
   ]
  },
  {
   "cell_type": "code",
   "execution_count": null,
   "metadata": {},
   "outputs": [],
   "source": [
    "parser.add_argument(dest='argument1', type=str, help=\"A string argument\")\n",
    "parser.add_argument(dest='argument2', type=int, help=\"An integer argument\")\n",
    "parser.add_argument(dest='argument3', type=float, help=\"A float argument\")\n",
    "\n",
    "# Validate that the input is in specified list\n",
    "parser.add_argument(dest='argument4', choices=['red', 'green', 'blue'])\n",
    "\n",
    "# Accept multiple inputs for an argument, returned as a list\n",
    "# Will be of type string, unless specified\n",
    "parser.add_argument(dest='argument5', nargs=2, type=int)\n",
    "\n",
    "# Optional positional argument (length 0 or 1)\n",
    "parser.add_argument(dest='argument6', nargs='?')"
   ]
  },
  {
   "cell_type": "markdown",
   "metadata": {},
   "source": [
    "## Optional (flag) arguments\n",
    "\n",
    "Flag arguments are specified on the command line by name, using single and/or double dashes (e.g. -h and/or --help) and are optional unless otherwise specified. They can be added on the command line in any order:"
   ]
  },
  {
   "cell_type": "code",
   "execution_count": null,
   "metadata": {},
   "outputs": [],
   "source": [
    "# Boolean flag (does not accept input data), with default value\n",
    "parser.add_argument('-a1', action=\"store_true\", default=False)\n",
    "\n",
    "# Cast input to integer, with a default value\n",
    "parser.add_argument('-a2', type=int, default=0)\n",
    "\n",
    "# Provide long form name as well (maps to 'argument3' not 'a3')\n",
    "parser.add_argument('-a3', '--argument3', type=str)\n",
    "\n",
    "# Make argument mandatory\n",
    "parser.add_argument('-a4', required=True)\n",
    "\n",
    "# Retur the input via different parameter name\n",
    "parser.add_argument('-a5', '--argument5', dest='my_argument')\n",
    "\n",
    "args = parser.parse_args()\n",
    "print(args.a1)\n",
    "print(args.a2)\n",
    "print(args.argument3)\n",
    "print(args.a4)\n",
    "print(args.my_argument)"
   ]
  },
  {
   "cell_type": "markdown",
   "metadata": {},
   "source": [
    "## Mutually exclusive arguments\n",
    "\n",
    "Some arguments don’t make sense to be both set at the same time. The mutually exclusive group allows you to specify this: an exception is raised if more than one argument in the group is provided:"
   ]
  },
  {
   "cell_type": "code",
   "execution_count": null,
   "metadata": {},
   "outputs": [],
   "source": [
    "group = parser.add_mutually_exclusive_group()\n",
    "group.add_argument('--arg1', action='store_true')\n",
    "group.add_argument('--arg2', action='store_false')"
   ]
  },
  {
   "cell_type": "markdown",
   "metadata": {},
   "source": [
    "according to above example:\n",
    "\n",
    "1. `arg1` is `True` if the flag is included on the command line, otherwise `False`. \n",
    "2. `arg2` is the opposite."
   ]
  },
  {
   "cell_type": "markdown",
   "metadata": {},
   "source": [
    "## Advanced functionality\n",
    "The examples above should cover more than 90% of the scenarios that you are are likely to use argparse for. It has some rather powerful additional features, however, and in the following sections we’ll see how it can be used to perform more specific input validation as well as managing input and output streams.\n",
    "\n",
    "### Parsing custom data\n",
    "As well as using the predefined types such as str, int, float etc, the type= parameter can accept any callable that takes a single string argument and returns a value. This can be used to do custom validation or conversion of the input:"
   ]
  },
  {
   "cell_type": "code",
   "execution_count": null,
   "metadata": {},
   "outputs": [],
   "source": [
    "def single_word(string):\n",
    "    # Check input does not contain spaces\n",
    "    if (' ' in string):\n",
    "        msg = f'\\\"{string}\\\" is not a single word'\n",
    "        raise argparse.ArgumentTypeError(msg)\n",
    "    return string\n",
    "\n",
    "parser.add_argument('argument1', type=single_word)"
   ]
  },
  {
   "cell_type": "markdown",
   "metadata": {},
   "source": [
    "In the example above, an exception is raised if the input contains one or more space characters:"
   ]
  },
  {
   "cell_type": "markdown",
   "metadata": {},
   "source": [
    "```shell\n",
    "$ python argparse_custom_type.py abc123\n",
    "abc123\n",
    "\n",
    "$ python argparse_custom_type.py \"Hello, world!\"\n",
    "usage: argparse_custom_type.py [-h] argument1\n",
    "error: argument1: \"Hello, world!\" is not a single word\n",
    "```"
   ]
  },
  {
   "cell_type": "markdown",
   "metadata": {},
   "source": [
    "### Opening and closing files\n",
    "\n",
    "It is relatively common to use command line arguments to specify paths to input and output files, such as for source data and results summaries. `argparse` can handle that for you: ***FileType*** gives you a more flexible way of specifying that an argument should be a file, and can handle encoding, access mode (read/write/append etc) and other hyperparameters:"
   ]
  },
  {
   "cell_type": "code",
   "execution_count": null,
   "metadata": {},
   "outputs": [],
   "source": [
    "import argparse\n",
    "\n",
    "parser = argparse.ArgumentParser()\n",
    "\n",
    "# Add a required, positional argument for the input data file name,\n",
    "# and open in 'read' mode\n",
    "parser.add_argument('infile', type=argparse.FileType('r'))\n",
    "\n",
    "# Add an optional argument for the output file,\n",
    "# open in 'write' mode and and specify encoding\n",
    "parser.add_argument('--output', type=argparse.FileType('w', encoding='UTF-8'))\n",
    "\n",
    "args = parser.parse_args()\n",
    "\n",
    "# Read a CSV file,  sum the values in the second column,\n",
    "# and optionally write to file\n",
    "sum = 0\n",
    "with args.infile as infile:\n",
    "    for line in infile:\n",
    "        value = int(line.split(',')[1])\n",
    "        sum += value\n",
    "        print(sum)\n",
    "    \n",
    "        if args.output is not None:\n",
    "            args.output.writelines(f'{sum}\\n')"
   ]
  },
  {
   "cell_type": "markdown",
   "metadata": {},
   "source": [
    "When using the FileType type, argparse takes care of opening the file(s) for you. If the input file name is not found, it throws an error that references the associated argument; if the optional output file argument is supplied, argparse creates the output stream:\n",
    "\n",
    "```bash\n",
    "$ python argparse_FileType.py source_dta.csv\n",
    "usage: argparse_FileType.py [-h] [--output OUTPUT] infile\n",
    "argparse_FileType.py.py: error: argument infile: can't open 'source_dta.csv': [Errno 2] No such file or directory: 'source_dta.csv'\n",
    "$ python basic.py source_dta.csv --output sum.csv\n",
    "```"
   ]
  }
 ],
 "metadata": {
  "kernelspec": {
   "display_name": "JupyterVenv",
   "language": "python",
   "name": "python3"
  },
  "language_info": {
   "codemirror_mode": {
    "name": "ipython",
    "version": 3
   },
   "file_extension": ".py",
   "mimetype": "text/x-python",
   "name": "python",
   "nbconvert_exporter": "python",
   "pygments_lexer": "ipython3",
   "version": "3.7.9"
  },
  "orig_nbformat": 4
 },
 "nbformat": 4,
 "nbformat_minor": 2
}
