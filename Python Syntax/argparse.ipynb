{
 "cells": [
  {
   "cell_type": "markdown",
   "metadata": {},
   "source": [
    "## Advanced functionality\n",
    "The examples above should cover more than 90% of the scenarios that you are are likely to use argparse for. It has some rather powerful additional features, however, and in the following sections we’ll see how it can be used to perform more specific input validation as well as managing input and output streams.\n",
    "\n",
    "### Parsing custom data\n",
    "As well as using the predefined types such as str, int, float etc, the type= parameter can accept any callable that takes a single string argument and returns a value. This can be used to do custom validation or conversion of the input:"
   ]
  },
  {
   "cell_type": "code",
   "execution_count": null,
   "metadata": {},
   "outputs": [],
   "source": [
    "import argparse\n",
    "\n",
    "parser = argparse.ArgumentParser()\n",
    "\n",
    "def single_word(string):\n",
    "    # Check input does not contain spaces\n",
    "    if (' ' in string):\n",
    "        msg = f'\\\"{string}\\\" is not a single word'\n",
    "        raise argparse.ArgumentTypeError(msg)\n",
    "    return string\n",
    "\n",
    "parser.add_argument('argument1', type=single_word)"
   ]
  },
  {
   "cell_type": "markdown",
   "metadata": {},
   "source": [
    "In the example above, an exception is raised if the input contains one or more space characters:"
   ]
  },
  {
   "cell_type": "markdown",
   "metadata": {},
   "source": [
    "```shell\n",
    "$ python argparse_custom_type.py abc123\n",
    "abc123\n",
    "\n",
    "$ python argparse_custom_type.py \"Hello, world!\"\n",
    "usage: argparse_custom_type.py [-h] argument1\n",
    "error: argument1: \"Hello, world!\" is not a single word\n",
    "```"
   ]
  },
  {
   "cell_type": "markdown",
   "metadata": {},
   "source": [
    "### Opening and closing files\n",
    "\n",
    "It is relatively common to use command line arguments to specify paths to input and output files, such as for source data and results summaries. `argparse` can handle that for you: ***FileType*** gives you a more flexible way of specifying that an argument should be a file, and can handle encoding, access mode (read/write/append etc) and other hyperparameters:"
   ]
  },
  {
   "cell_type": "code",
   "execution_count": null,
   "metadata": {},
   "outputs": [],
   "source": [
    "import argparse\n",
    "\n",
    "parser = argparse.ArgumentParser()\n",
    "\n",
    "# Add a required, positional argument for the input data file name,\n",
    "# and open in 'read' mode\n",
    "parser.add_argument('infile', type=argparse.FileType('r'))\n",
    "\n",
    "# Add an optional argument for the output file,\n",
    "# open in 'write' mode and and specify encoding\n",
    "parser.add_argument('--output', type=argparse.FileType('w', encoding='UTF-8'))\n",
    "\n",
    "args = parser.parse_args()\n",
    "\n",
    "# Read a CSV file,  sum the values in the second column,\n",
    "# and optionally write to file\n",
    "sum = 0\n",
    "with args.infile as infile:\n",
    "    for line in infile:\n",
    "        value = int(line.split(',')[1])\n",
    "        sum += value\n",
    "        print(sum)\n",
    "    \n",
    "        if args.output is not None:\n",
    "            args.output.writelines(f'{sum}\\n')"
   ]
  },
  {
   "cell_type": "markdown",
   "metadata": {},
   "source": [
    "When using the FileType type, argparse takes care of opening the file(s) for you. If the input file name is not found, it throws an error that references the associated argument; if the optional output file argument is supplied, argparse creates the output stream:\n",
    "\n",
    "```bash\n",
    "$ python argparse_FileType.py source_dta.csv\n",
    "usage: argparse_FileType.py [-h] [--output OUTPUT] infile\n",
    "argparse_FileType.py.py: error: argument infile: can't open 'source_dta.csv': [Errno 2] No such file or directory: 'source_dta.csv'\n",
    "$ python basic.py source_dta.csv --output sum.csv\n",
    "```"
   ]
  }
 ],
 "metadata": {
  "kernelspec": {
   "display_name": "JupyterVenv",
   "language": "python",
   "name": "python3"
  },
  "language_info": {
   "codemirror_mode": {
    "name": "ipython",
    "version": 3
   },
   "file_extension": ".py",
   "mimetype": "text/x-python",
   "name": "python",
   "nbconvert_exporter": "python",
   "pygments_lexer": "ipython3",
   "version": "3.7.9"
  },
  "orig_nbformat": 4
 },
 "nbformat": 4,
 "nbformat_minor": 2
}
