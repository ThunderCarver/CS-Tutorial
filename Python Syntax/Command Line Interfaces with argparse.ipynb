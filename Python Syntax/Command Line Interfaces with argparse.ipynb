{
 "cells": [
  {
   "cell_type": "markdown",
   "metadata": {},
   "source": [
    "# [Table of content](https://realpython.com/command-line-interfaces-python-argparse)\n"
   ]
  },
  {
   "cell_type": "markdown",
   "metadata": {},
   "source": [
    "Command-line apps may not be common in the general user’s space, but they’re present in development, data science, systems administration, and many other operations. Every command-line app needs a user-friendly command-line interface (CLI) so that you can interact with the app itself. In Python, you can create full-featured CLIs with the argparse module from the standard library.\n",
    "\n",
    "In this article, you’ll learn how to:\n",
    "\n",
    "* Get started with command-line interfaces\n",
    "* Organize and lay out a command-line app project in Python\n",
    "* Create command-line interfaces with Python’s argparse\n",
    "* Deeply customize your CLIs with some powerful features of argparse\n",
    "\n",
    "To get the most out of this tutorial, you should be familiar with Python programming, including concepts such as object-oriented programming, script development and execution, and Python packages and modules. It’ll also be helpful if you’re familiar with general concepts and topics related to using a command line or terminal.\n",
    "\n",
    "\n"
   ]
  },
  {
   "cell_type": "markdown",
   "metadata": {},
   "source": [
    "## Getting to Know Command-Line Interfaces\n",
    "Since the invention of computers, humans have always needed and found ways to interact and share information with these machines. The information exchange has flowed among humans, computer software, and hardware components. The shared boundary between any two of these elements is generically known as an interface.\n",
    "\n",
    "In software development, an interface is a special part of a given piece of software that allows interaction between components of a computer system. When it comes to human and software interaction, this vital component is known as the user interface.\n",
    "\n",
    "You’ll find different types of user interfaces in programming. Probably, graphical user interfaces (GUIs) are the most common today. However, you’ll also find apps and programs that provide command-line interfaces (CLIs) for their users. In this tutorial, you’ll learn about CLIs and how to create them in Python."
   ]
  },
  {
   "cell_type": "markdown",
   "metadata": {},
   "source": [
    "### Command-Line Interfaces (CLIs)\n",
    "Command-line interfaces allow you to interact with an application or program through your operating system command line, terminal, or console.\n",
    "\n",
    "To understand command-line interfaces and how they work, consider this practical example. Say that you have a directory called sample containing three sample files. If you’re on a Unix-like operating system, such as Linux or macOS, go ahead and open a command-line window or terminal in the parent directory and then execute the following command:\n",
    "\n",
    "```shell\n",
    "$ ls sample/\n",
    "hello.txt     lorem.md      realpython.md\n",
    "```\n",
    "\n",
    "The *<font color='yellow'>ls Unix command</font>* lists the files and subdirectories contained in a target directory, which defaults to the current working directory. The above command call doesn’t display much information about the content of sample. It only displays the filenames on the screen."
   ]
  },
  {
   "cell_type": "markdown",
   "metadata": {},
   "source": [
    "### Commands, Arguments, Options, Parameters, and Subcommands\n",
    "Throughout this tutorial, you’ll learn about commands and subcommands. You’ll also learn about command-line arguments, options, and parameters, so you should incorporate these terms into your tech vocabulary:\n",
    "\n",
    "* Command: A program or routine that runs at the command line or terminal window. You’ll typically identify a command with the name of the underlying program or routine.\n",
    "\n",
    "* Argument: A required or optional piece of information that a command uses to perform its intended action. Commands typically accept one or many arguments, which you can provide as a whitespace-separated or comma-separated list on your command line.\n",
    "\n",
    "* Option, also known as flag or switch: An optional argument that modifies a command’s behavior. Options are passed to commands using a specific name, like -l in the previous example.\n",
    "\n",
    "* Parameter: An argument that an option uses to perform its intended operation or action.\n",
    "\n",
    "* Subcommand: A predefined name that can be passed to an application to run a specific action.\n",
    "\n",
    "Consider the sample command construct from the previous section:\n",
    "\n",
    "```shell\n",
    "$ ls -l sample/\n",
    "```\n",
    "\n",
    "In this example, you’ve combined the following components of a CLI:\n",
    "\n",
    "* ls: The command’s name or the app’s name\n",
    "* -l: An option, switch, or flag that enables detailed outputs\n",
    "* sample: An argument that provides additional information to the command’s execution\n",
    "\n",
    "Now consider the following command construct, which showcases the CLI of Python’s package manager, known as pip:\n",
    "```shell\n",
    "$ pip install -r requirements.txt\n",
    "```\n",
    "\n",
    "This is a common pip command construct, which you’ve probably seen before. It allows you to install the requirements of a given Python project using a requirements.txt file. In this example, you’re using the following CLI components:\n",
    "\n",
    "* pip: The command’s name\n",
    "* install: The name of a subcommand of pip\n",
    "* -r: An option of the install subcommand\n",
    "* requirements.txt: An argument, specifically a parameter of the -r option\n",
    "\n",
    "Now you know what command-line interfaces are and what their main parts or components are. It’s time to learn how to create your own CLIs in Python.\n"
   ]
  },
  {
   "cell_type": "markdown",
   "metadata": {},
   "source": [
    "## Getting Started With CLIs in Python: sys.argv vs argparse\n",
    "Python comes with a couple of tools that you can use to write command-line interfaces for your programs and apps. If you need to quickly create a minimal CLI for a small program, then you can use the argv attribute from the sys module. This attribute automatically stores the arguments that you pass to a given program at the command line."
   ]
  },
  {
   "cell_type": "markdown",
   "metadata": {},
   "source": [
    "### Using sys.argv to Build a Minimal CLI\n",
    "As an example of using argv to create a minimal CLI, say that you need to write a small program that lists all the files in a given directory, similar to what ls does. In this situation, you can write something like this:"
   ]
  },
  {
   "cell_type": "code",
   "execution_count": null,
   "metadata": {},
   "outputs": [],
   "source": [
    "# ls_argv.py\n",
    "\n",
    "import sys\n",
    "from pathlib import Path\n",
    "\n",
    "args_count = len(sys.argv)\n",
    "if args_count > 2:\n",
    "    print(f\"One argument expected, got {args_count - 1}\")\n",
    "    raise SystemExit(2)\n",
    "elif args_count < 2:\n",
    "    print(\"You must specify the target directory\")\n",
    "    raise SystemExit(2)\n",
    "\n",
    "target_dir = Path(sys.argv[1])\n",
    "\n",
    "if not target_dir.is_dir():\n",
    "    print(\"The target directory doesn't exist\")\n",
    "    raise SystemExit(1)\n",
    "\n",
    "for entry in target_dir.iterdir():\n",
    "    print(entry.name)"
   ]
  },
  {
   "cell_type": "markdown",
   "metadata": {},
   "source": [
    "This program implements a minimal CLI by manually processing the arguments provided at the command line, which are automatically stored in sys.argv. The first item in sys.argv is always the program’s name. The second item will be the target directory. The app shouldn’t accept more than one target directory, so the args_count must not exceed 2.\n",
    "\n",
    "After checking the content of sys.argv, you create a pathlib.Path object to store the path to your target directory. If this directory doesn’t exist, then you inform the user and exit the app. The for loop lists the directory content, one entry per line.\n",
    "\n",
    "If you run the script from your command line, then you’ll get the following results:\n",
    "\n",
    "```shell\n",
    "$ python ls_argv.py sample/\n",
    "hello.txt\n",
    "lorem.md\n",
    "realpython.md\n",
    "\n",
    "$ python ls_argv.py\n",
    "You must specify the target directory\n",
    "\n",
    "$ python ls_argv.py sample/ other_dir/\n",
    "One argument expected, got 2\n",
    "\n",
    "$ python ls_argv.py non_existing/\n",
    "The target directory doesn't exist\n",
    "```\n",
    "\n",
    "Your program takes a directory as an argument and lists its content. If you run the command without arguments, then you get an error message. If you run the command with more than one target directory, you also get an error. Running the command with a nonexistent directory produces another error message.\n",
    "\n",
    "Even though your program works okay, parsing command-line arguments manually using the sys.argv attribute isn’t a scalable solution for more complex CLI apps. If your app needs to take many more arguments and options, then parsing sys.argv will be a complex and error-prone task. You need something better, and you get it in Python’s argparse module."
   ]
  }
 ],
 "metadata": {
  "kernelspec": {
   "display_name": "JupyterVenv",
   "language": "python",
   "name": "python3"
  },
  "language_info": {
   "codemirror_mode": {
    "name": "ipython",
    "version": 3
   },
   "file_extension": ".py",
   "mimetype": "text/x-python",
   "name": "python",
   "nbconvert_exporter": "python",
   "pygments_lexer": "ipython3",
   "version": "3.7.9"
  }
 },
 "nbformat": 4,
 "nbformat_minor": 2
}
