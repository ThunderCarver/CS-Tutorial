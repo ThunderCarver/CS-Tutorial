If you are in a running container, hwo to see the current container's name?
"""bash
  $hostname   // container's ID shown
"""
